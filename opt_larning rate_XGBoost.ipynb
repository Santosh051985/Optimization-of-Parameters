{
 "cells": [
  {
   "cell_type": "markdown",
   "metadata": {},
   "source": [
    "# Optimize Learning rate of XGBoost"
   ]
  },
  {
   "cell_type": "code",
   "execution_count": 3,
   "metadata": {},
   "outputs": [
    {
     "name": "stdout",
     "output_type": "stream",
     "text": [
      "\n",
      "********************How to optimise learning rates in XGBoost*********************\n",
      "\n",
      "Best: -0.108291 using {'learning_rate': 0.3}\n",
      "-1.086571 (0.001214) with: {'learning_rate': 0.0001}\n",
      "-0.987292 (0.011496) with: {'learning_rate': 0.001}\n",
      "-0.450841 (0.064743) with: {'learning_rate': 0.01}\n",
      "-0.111016 (0.113984) with: {'learning_rate': 0.1}\n",
      "-0.108729 (0.110623) with: {'learning_rate': 0.2}\n",
      "-0.108291 (0.113350) with: {'learning_rate': 0.3}\n"
     ]
    }
   ],
   "source": [
    "def Snippet_101():\n",
    "    print()\n",
    "    print(format('How to optimise learning rates in XGBoost','*^82'))\n",
    "\n",
    "    import warnings\n",
    "    warnings.filterwarnings(\"ignore\")\n",
    "\n",
    "    # load libraries\n",
    "    from sklearn import datasets\n",
    "    from sklearn.model_selection import train_test_split\n",
    "    from xgboost import XGBClassifier\n",
    "    from sklearn.model_selection import GridSearchCV\n",
    "    from sklearn.model_selection import StratifiedKFold\n",
    "    import matplotlib\n",
    "    matplotlib.use('Agg')\n",
    "    from matplotlib import pyplot\n",
    "\n",
    "    # load the iris datasets\n",
    "    dataset = datasets.load_wine()\n",
    "    X = dataset.data; y = dataset.target\n",
    "    X_train, X_test, y_train, y_test = train_test_split(X, y, test_size=0.20)\n",
    "\n",
    "    # grid search\n",
    "    model = XGBClassifier()\n",
    "    learning_rate = [0.0001, 0.001, 0.01, 0.1, 0.2, 0.3]\n",
    "    param_grid = dict(learning_rate=learning_rate)\n",
    "    kfold = StratifiedKFold(n_splits=10, shuffle=True, random_state=7)\n",
    "    grid_search = GridSearchCV(model, param_grid, scoring=\"neg_log_loss\", n_jobs=-1, cv=kfold)\n",
    "    grid_result = grid_search.fit(X, y)\n",
    "\n",
    "    # summarize results\n",
    "    print(); print(\"Best: %f using %s\" % (grid_result.best_score_, grid_result.best_params_))\n",
    "    means = grid_result.cv_results_['mean_test_score']\n",
    "    stds = grid_result.cv_results_['std_test_score']\n",
    "    params = grid_result.cv_results_['params']\n",
    "\n",
    "    for mean, stdev, param in zip(means, stds, params):\n",
    "\t     print(\"%f (%f) with: %r\" % (mean, stdev, param))\n",
    "\n",
    "    # plot\n",
    "    pyplot.errorbar(learning_rate, means, yerr=stds)\n",
    "    pyplot.title(\"XGBoost learning_rate vs Log Loss\")\n",
    "    pyplot.xlabel('learning_rate')\n",
    "    pyplot.ylabel('Log Loss')\n",
    "    pyplot.savefig('learning_rate.png')\n",
    "\n",
    "Snippet_101()"
   ]
  },
  {
   "cell_type": "code",
   "execution_count": null,
   "metadata": {},
   "outputs": [],
   "source": []
  }
 ],
 "metadata": {
  "kernelspec": {
   "display_name": "Python 3",
   "language": "python",
   "name": "python3"
  },
  "language_info": {
   "codemirror_mode": {
    "name": "ipython",
    "version": 3
   },
   "file_extension": ".py",
   "mimetype": "text/x-python",
   "name": "python",
   "nbconvert_exporter": "python",
   "pygments_lexer": "ipython3",
   "version": "3.7.4"
  }
 },
 "nbformat": 4,
 "nbformat_minor": 2
}
